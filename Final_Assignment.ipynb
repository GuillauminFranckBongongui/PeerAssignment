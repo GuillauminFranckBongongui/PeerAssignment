{
 "cells": [
  {
   "cell_type": "markdown",
   "id": "b56bda47-eb47-49b3-bded-0386e23d2469",
   "metadata": {},
   "source": [
    "# Peer-graded Assignment"
   ]
  },
  {
   "cell_type": "markdown",
   "id": "d2ff0b56-9cf0-490c-a328-b9d7b1ff75b2",
   "metadata": {},
   "source": [
    "## Introduction"
   ]
  },
  {
   "cell_type": "markdown",
   "id": "ac98abed-bab9-488d-a348-7abb680fc965",
   "metadata": {},
   "source": [
    "### Data science languages\n",
    "* Python\n",
    "* R\n",
    "* Java\n",
    "* Scala\n",
    "* Julia\n",
    "* Javascript\n",
    "* C++"
   ]
  },
  {
   "cell_type": "markdown",
   "id": "b5b16788-04e6-44b7-a38a-b051f5bc9f77",
   "metadata": {},
   "source": [
    "### Data science librabries (this is not an exhastive list)\n",
    "#### Python\n",
    "* Scientific computing: Pandas, NumPy\n",
    "* Visualization : Matplotlib, Seaborn\n",
    "* Hgh-level machine learning: Scikit-learn, SciPy\n",
    "#### R\n",
    "* Data manipulation: dplyr\n",
    "* Visualization: ggplot2\n",
    "* Machine learning: caret"
   ]
  },
  {
   "cell_type": "markdown",
   "id": "daa18230-7718-470e-ae96-a34e94817fe6",
   "metadata": {},
   "source": [
    "### Data Science tool\n",
    "* Jupyter notebook/lab\n",
    "* Rstudio\n",
    "* Github, Gitlab..."
   ]
  },
  {
   "cell_type": "markdown",
   "id": "4838f02d-6f08-429a-8adf-9a6443a99558",
   "metadata": {},
   "source": [
    "## Arithmetic expression examples"
   ]
  },
  {
   "cell_type": "code",
   "execution_count": 5,
   "id": "cfe1ea9c-24b7-46e7-acc5-d6beadfddf2b",
   "metadata": {},
   "outputs": [
    {
     "data": {
      "text/plain": [
       "5"
      ]
     },
     "execution_count": 5,
     "metadata": {},
     "output_type": "execute_result"
    }
   ],
   "source": [
    "# a, b are variable for numbers\n",
    "a = 1\n",
    "b = 2\n",
    "c = 3\n",
    "#multiply and add numbers\n",
    "a*b + c"
   ]
  },
  {
   "cell_type": "code",
   "execution_count": 16,
   "id": "21b320b4-5b05-4440-8721-7ec5092e4492",
   "metadata": {},
   "outputs": [
    {
     "data": {
      "text/plain": [
       "3.0"
      ]
     },
     "execution_count": 16,
     "metadata": {},
     "output_type": "execute_result"
    }
   ],
   "source": [
    "# c is the number of minutes\n",
    "c = 180\n",
    "\n",
    "# Convert minutes to hours\n",
    "c/60"
   ]
  },
  {
   "cell_type": "markdown",
   "id": "ad858052-990d-4f1b-a61d-eac9953b856b",
   "metadata": {},
   "source": [
    "### Author name : Guillaumin Franck Bongongui"
   ]
  },
  {
   "cell_type": "code",
   "execution_count": null,
   "id": "927aafca-120d-48b0-9f53-0a6b0607d6cb",
   "metadata": {},
   "outputs": [],
   "source": []
  }
 ],
 "metadata": {
  "kernelspec": {
   "display_name": "Python [conda env:base] *",
   "language": "python",
   "name": "conda-base-py"
  },
  "language_info": {
   "codemirror_mode": {
    "name": "ipython",
    "version": 3
   },
   "file_extension": ".py",
   "mimetype": "text/x-python",
   "name": "python",
   "nbconvert_exporter": "python",
   "pygments_lexer": "ipython3",
   "version": "3.12.7"
  }
 },
 "nbformat": 4,
 "nbformat_minor": 5
}
